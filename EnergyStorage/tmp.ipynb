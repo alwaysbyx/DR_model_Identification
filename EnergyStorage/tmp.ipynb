{
 "cells": [
  {
   "cell_type": "code",
   "execution_count": 2,
   "metadata": {},
   "outputs": [
    {
     "data": {
      "text/plain": [
       "<torch._C.Generator at 0x7facc7777630>"
      ]
     },
     "execution_count": 2,
     "metadata": {},
     "output_type": "execute_result"
    }
   ],
   "source": [
    "import torch\n",
    "import torch.nn as nn\n",
    "from functorch import vmap\n",
    "import torch.autograd as autograd\n",
    "import torch.optim as optim\n",
    "import torch.nn.functional as F\n",
    "from itertools import accumulate\n",
    "import cvxpy as cp\n",
    "import gurobipy\n",
    "import numpy as np\n",
    "from torch.autograd.functional import hessian\n",
    "import torch\n",
    "from torch.autograd import Function, Variable\n",
    "from torch.nn import Module\n",
    "from torch.nn.parameter import Parameter\n",
    "import util\n",
    "from collections import OrderedDict\n",
    "import plotly.graph_objs as go\n",
    "import random\n",
    "import matplotlib.pyplot as plt\n",
    "import pandas as pd\n",
    "from baseline import MLP, RNNmodel\n",
    "import keras\n",
    "torch.set_default_tensor_type(torch.DoubleTensor)\n",
    "torch.manual_seed(0)"
   ]
  },
  {
   "cell_type": "code",
   "execution_count": 9,
   "metadata": {},
   "outputs": [
    {
     "data": {
      "text/plain": [
       "DRagent(\n",
       "  (costNN): ICNN2(\n",
       "    (linear_z1): Linear(in_features=24, out_features=24, bias=False)\n",
       "    (linear_y0): Linear(in_features=1, out_features=24, bias=True)\n",
       "    (linear_y1): Linear(in_features=1, out_features=1, bias=True)\n",
       "    (act): Softplus(beta=1, threshold=20)\n",
       "  )\n",
       "  (layer): OptLayer()\n",
       ")"
      ]
     },
     "execution_count": 9,
     "metadata": {},
     "output_type": "execute_result"
    }
   ],
   "source": [
    "from differentiable_DR_model import DRagent\n",
    "dataset = np.load(f\"dataset/data_N365_0.npz\")\n",
    "P1 = dataset[\"p\"].max()\n",
    "P2 = dataset[\"d\"].max()\n",
    "T = 24\n",
    "layer = DRagent(P1, P2, T)\n",
    "layer.load_state_dict(torch.load('result/model_gradient/model_0.pth'))\n",
    "layer.eval()"
   ]
  },
  {
   "cell_type": "code",
   "execution_count": 17,
   "metadata": {},
   "outputs": [
    {
     "data": {
      "text/plain": [
       "(tensor([0.7490]),\n",
       " tensor([-0.7503]),\n",
       " tensor([0.9081]),\n",
       " tensor(16.4026),\n",
       " tensor(10.7039, grad_fn=<MeanBackward0>))"
      ]
     },
     "execution_count": 17,
     "metadata": {},
     "output_type": "execute_result"
    }
   ],
   "source": [
    "d = dataset[\"d\"]\n",
    "p = dataset[\"p\"]\n",
    "df_price = dataset['price']\n",
    "N_train = 20\n",
    "price_tensor = torch.from_numpy(df_price[10:10+N_train]).double()\n",
    "d_tensor = torch.from_numpy(d[10:10+N_train]).double()\n",
    "p_tensor = torch.from_numpy(p[10:10+N_train]).double()\n",
    "y_tensor = tuple([d_tensor, p_tensor])\n",
    "d_tensor2 = d_tensor.permute(1,0).unsqueeze(2)\n",
    "c2, c1, _ = layer.approximate_cost2(d_tensor2, diff=True)\n",
    "layer.E1.data, layer.E2.data, layer.eta.data, torch.mean(c2), torch.mean(c1)"
   ]
  }
 ],
 "metadata": {
  "interpreter": {
   "hash": "5cc9548c05a244386a6d3194fd4ce0daff846e301aca00a00f7a9d28040987a3"
  },
  "kernelspec": {
   "display_name": "Python 3.8.13 64-bit ('dr': conda)",
   "name": "python3"
  },
  "language_info": {
   "codemirror_mode": {
    "name": "ipython",
    "version": 3
   },
   "file_extension": ".py",
   "mimetype": "text/x-python",
   "name": "python",
   "nbconvert_exporter": "python",
   "pygments_lexer": "ipython3",
   "version": "3.8.13"
  },
  "orig_nbformat": 4
 },
 "nbformat": 4,
 "nbformat_minor": 2
}
